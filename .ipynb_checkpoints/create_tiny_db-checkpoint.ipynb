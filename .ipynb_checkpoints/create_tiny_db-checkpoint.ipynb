{
 "cells": [
  {
   "cell_type": "code",
   "execution_count": null,
   "id": "dca10936-a03e-4dfc-8b7d-b76becb1f5ac",
   "metadata": {},
   "outputs": [],
   "source": [
    "from helpers import read_tmQM\n",
    "import pandas as pd"
   ]
  },
  {
   "cell_type": "code",
   "execution_count": null,
   "id": "8bc662f4-89b7-4820-8cc7-b76579a7867f",
   "metadata": {},
   "outputs": [],
   "source": [
    "read_tmQM(\"tmQM/\", \"tmQM_X1.xyz\",\"tmQM_y.csv\")"
   ]
  },
  {
   "cell_type": "code",
   "execution_count": null,
   "id": "ee2fd8ff-0df7-46dc-8e3c-4c8e30c0ff33",
   "metadata": {},
   "outputs": [],
   "source": []
  }
 ],
 "metadata": {
  "kernelspec": {
   "display_name": "Python 3 (ipykernel)",
   "language": "python",
   "name": "python3"
  },
  "language_info": {
   "codemirror_mode": {
    "name": "ipython",
    "version": 3
   },
   "file_extension": ".py",
   "mimetype": "text/x-python",
   "name": "python",
   "nbconvert_exporter": "python",
   "pygments_lexer": "ipython3",
   "version": "3.12.11"
  }
 },
 "nbformat": 4,
 "nbformat_minor": 5
}
