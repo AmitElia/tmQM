{
 "cells": [
  {
   "cell_type": "code",
   "execution_count": 1,
   "id": "dca10936-a03e-4dfc-8b7d-b76becb1f5ac",
   "metadata": {},
   "outputs": [],
   "source": [
    "from helpers import read_tmQM\n",
    "import pandas as pd"
   ]
  },
  {
   "cell_type": "code",
   "execution_count": 2,
   "id": "8bc662f4-89b7-4820-8cc7-b76579a7867f",
   "metadata": {},
   "outputs": [
    {
     "name": "stdout",
     "output_type": "stream",
     "text": [
      "Parsed 1 blocks.\n",
      "First atom in first block: La [8.96863758 6.85196554 3.94646168] 0 (48, 48)\n"
     ]
    }
   ],
   "source": [
    "read_tmQM(\"tmQM/\", \"tmQM_X1.xyz\",\"tmQM_y.csv\")"
   ]
  },
  {
   "cell_type": "code",
   "execution_count": null,
   "id": "ee2fd8ff-0df7-46dc-8e3c-4c8e30c0ff33",
   "metadata": {},
   "outputs": [],
   "source": []
  }
 ],
 "metadata": {
  "kernelspec": {
   "display_name": "Python 3 (ipykernel)",
   "language": "python",
   "name": "python3"
  },
  "language_info": {
   "codemirror_mode": {
    "name": "ipython",
    "version": 3
   },
   "file_extension": ".py",
   "mimetype": "text/x-python",
   "name": "python",
   "nbconvert_exporter": "python",
   "pygments_lexer": "ipython3",
   "version": "3.12.11"
  }
 },
 "nbformat": 4,
 "nbformat_minor": 5
}
